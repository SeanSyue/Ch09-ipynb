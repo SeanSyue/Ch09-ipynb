{
 "cells": [
  {
   "cell_type": "markdown",
   "metadata": {},
   "source": [
    "# Chapter 09: Creating Command-line Interfaces"
   ]
  },
  {
   "cell_type": "markdown",
   "metadata": {},
   "source": [
    "## 1. unitconverter的功能介紹"
   ]
  },
  {
   "cell_type": "markdown",
   "metadata": {},
   "source": [
    "#### 先import unitconverter的核心模組"
   ]
  },
  {
   "cell_type": "code",
   "execution_count": null,
   "metadata": {
    "ExecuteTime": {
     "end_time": "2018-05-28T15:12:33.187000Z",
     "start_time": "2018-05-28T15:12:33.171000Z"
    }
   },
   "outputs": [],
   "source": [
    "from unitconverter.Converter import get_table, convert_units"
   ]
  },
  {
   "cell_type": "markdown",
   "metadata": {},
   "source": [
    "#### 先來看看定義了基礎物件的UnitTable.py\n",
    "    unit_tables資料夾內的檔案定義了各種不同單位類型的unit_table物件，所有的這些物件都繼承了UnitTable這個class\n",
    "    在class UnitTable中有下列這些method：\n",
    "    * convert: 用於單位轉換\n",
    "    * get_units: 回傳所有支援的單位名稱"
   ]
  },
  {
   "cell_type": "code",
   "execution_count": null,
   "metadata": {
    "ExecuteTime": {
     "end_time": "2018-05-28T15:09:11.928000Z",
     "start_time": "2018-05-28T15:09:11.908000Z"
    },
    "code_folding": [
     0,
     6,
     12,
     34
    ]
   },
   "outputs": [],
   "source": [
    "class UnitTable(object):\n",
    "    \"\"\"\n",
    "    A class to manage conversion of units for the same quantity (e.g. length,\n",
    "    volume, mass)\n",
    "    \"\"\"\n",
    "\n",
    "    def __init__(self):\n",
    "        self.base_unit = None\n",
    "        self.to_base_unit = {}\n",
    "        self.from_base_unit = {}\n",
    "\n",
    "\n",
    "    def convert(self, source, dest, value):\n",
    "        \"\"\"\n",
    "        Converts a value in one unit to another.\n",
    "\n",
    "        @param source The source unit\n",
    "        @param dest The destination unit\n",
    "        @param value The value to convert\n",
    "        @return The value in the destination unit\n",
    "        \"\"\"\n",
    "\n",
    "        if not (self.can_convert(source) and self.can_convert(dest)):\n",
    "            raise ValueError('Cannot convert given units')\n",
    "\n",
    "        if source != self.base_unit:\n",
    "            value = self.to_base_unit[source](value)\n",
    "\n",
    "        if dest != self.base_unit:\n",
    "            value = self.from_base_unit[dest](value)\n",
    "\n",
    "        return value\n",
    "\n",
    "\n",
    "    def get_units(self):\n",
    "        \"\"\"\n",
    "        Returns a list of units that this table can convert.\n",
    "\n",
    "        @return List of valid units\n",
    "        \"\"\"\n",
    "\n",
    "        convertable_units = set(self.to_base_unit.keys()) & set(self.from_base_unit.keys())\n",
    "        convertable_units.add(self.base_unit)\n",
    "        return convertable_units"
   ]
  },
  {
   "cell_type": "markdown",
   "metadata": {},
   "source": [
    "#### 顯示time的unit_table中可以進行轉換的所有單位"
   ]
  },
  {
   "cell_type": "code",
   "execution_count": null,
   "metadata": {},
   "outputs": [],
   "source": [
    "get_table('time').get_units()"
   ]
  },
  {
   "cell_type": "markdown",
   "metadata": {},
   "source": [
    "#### 再来看看unitconverter的核心程式Converter.py\n",
    "    * get_table: 回傳一個table_name所指定的unit_table物件\n",
    "    * convert_units: 把用戶指定的數值轉換為以指定單位表示的形式"
   ]
  },
  {
   "cell_type": "code",
   "execution_count": null,
   "metadata": {
    "ExecuteTime": {
     "end_time": "2018-05-28T15:40:57.276000Z",
     "start_time": "2018-05-28T15:40:57.260000Z"
    },
    "code_folding": [
     3,
     16
    ]
   },
   "outputs": [],
   "source": [
    "import importlib\n",
    "\n",
    "\n",
    "def get_table(table_name):\n",
    "    \"\"\"\n",
    "    Returns an instance of a unit table given the name of the table.\n",
    "\n",
    "    @param table_name Name of table to retrieve\n",
    "    @return UnitTable instance\n",
    "    \"\"\"\n",
    "\n",
    "    converter_module = importlib.import_module('unitconverter.unit_tables.%s' % table_name)\n",
    "    converter_class = getattr(converter_module, table_name)()\n",
    "    return converter_class\n",
    "\n",
    "\n",
    "def convert_units(table_name, value, value_unit, targets):\n",
    "    \"\"\"\n",
    "    Converts a given value in a unit to a set of target units.\n",
    "\n",
    "    @param table_name Name of table units are contained in\n",
    "    @param value Value to convert\n",
    "    @param value_unit Unit value is currently in\n",
    "    @param targets List of units to convert to\n",
    "    @return List of conversions\n",
    "    \"\"\"\n",
    "\n",
    "    table = get_table(table_name)\n",
    "\n",
    "    results = list()\n",
    "    for target in targets:\n",
    "        result = {'dest_unit': target}\n",
    "        try:\n",
    "            result['converted_value'] = table.convert(value_unit, target, value)\n",
    "        except ValueError:\n",
    "            continue\n",
    "        results.append(result)\n",
    "\n",
    "    return results"
   ]
  },
  {
   "cell_type": "markdown",
   "metadata": {},
   "source": [
    "#### 將200 wh 的能量分別轉換為 j, hph的形式"
   ]
  },
  {
   "cell_type": "code",
   "execution_count": null,
   "metadata": {},
   "outputs": [],
   "source": [
    "convert_units('energy', 200, 'wh', ['j', 'hph'])"
   ]
  },
  {
   "cell_type": "markdown",
   "metadata": {},
   "source": [
    "## 2. 撰寫unitconverter的Command-line Interface程式\n",
    "\n",
    "#### Command-line Interface(CLI)的設定全部都包含在CLI.py中，CLI指令供分為兩層\n",
    "    * 第一層用於選擇所需要的unit_table的類型\n",
    "    * 第二層用於選擇list模式或conversion模式\n",
    "        - list模式用於顯示選定的unit_table可以轉換的所有單位的名稱\n",
    "        - conversion模式用於單位的轉換"
   ]
  },
  {
   "cell_type": "code",
   "execution_count": null,
   "metadata": {
    "ExecuteTime": {
     "end_time": "2018-05-26T14:32:19.902000Z",
     "start_time": "2018-05-26T14:32:19.898000Z"
    },
    "code_folding": []
   },
   "outputs": [],
   "source": [
    "# import required libraries\n",
    "import argparse\n",
    "import inspect\n",
    "from unitconverter.Converter import get_table, convert_units"
   ]
  },
  {
   "cell_type": "markdown",
   "metadata": {},
   "source": [
    "### 2.1 借助python內建的setup功能，可以方便地構建CLI環境。setup功能全部位於setup.py\n",
    "    setup.py定義了以下內容：\n",
    "    * entry_points: 我們可以在CLI界面中輸入\"unitconvert\"語句來啟動這個程式\n",
    "    * packages: 需要包含進來的所有程式\n",
    "    注意：下面的程式無法直接執行"
   ]
  },
  {
   "cell_type": "code",
   "execution_count": null,
   "metadata": {
    "ExecuteTime": {
     "end_time": "2018-05-28T15:37:26.619000Z",
     "start_time": "2018-05-28T15:37:26.588000Z"
    },
    "code_folding": [
     2
    ]
   },
   "outputs": [],
   "source": [
    "from setuptools import setup\n",
    "\n",
    "setup(\n",
    "    name='unitconverter',\n",
    "    version='0.1.0',\n",
    "    entry_points={\n",
    "        'console_scripts': ['unitconvert=unitconverter.CLI:run_cli'],\n",
    "    },\n",
    "    description='Command line tool for unit conversion',\n",
    "    classifiers=[\n",
    "        'Natural Language :: English',\n",
    "        'Programming Language :: Python :: 2.7',\n",
    "    ],\n",
    "    author='Dan Nixon',\n",
    "    packages=['unitconverter', 'unitconverter.unit_tables'],\n",
    "    include_package_data=True, #  to include any data files in package\n",
    "    zip_safe=False)"
   ]
  },
  {
   "cell_type": "markdown",
   "metadata": {},
   "source": [
    "#### 先使用\"python setup.py install\"，安裝完以後方可以啟用命令行工具"
   ]
  },
  {
   "cell_type": "code",
   "execution_count": null,
   "metadata": {
    "ExecuteTime": {
     "end_time": "2018-05-30T01:25:57.636000Z",
     "start_time": "2018-05-30T01:25:56.585000Z"
    }
   },
   "outputs": [],
   "source": [
    "! python setup.py install"
   ]
  },
  {
   "cell_type": "markdown",
   "metadata": {},
   "source": [
    "### 2.2 主幹parser \n",
    "#### 在CLI.py的run_cli方法中，先宣告一個parser用於儲存table的類別"
   ]
  },
  {
   "cell_type": "code",
   "execution_count": null,
   "metadata": {
    "code_folding": []
   },
   "outputs": [],
   "source": [
    "from unitconverter.Converter import get_table, convert_units\n",
    "import inspect\n",
    "\n",
    "parser = argparse.ArgumentParser(description='Tool for converting units')\n",
    "\n",
    "parser.add_argument(\n",
    "    'table',\n",
    "    metavar='TABLE',\n",
    "    action='store',\n",
    "    type=str,\n",
    "    help='Unit table to use in conversion'\n",
    ")"
   ]
  },
  {
   "cell_type": "markdown",
   "metadata": {},
   "source": [
    "#### 另外定義list和convert兩種功能，依靠關鍵字\"list\"和\"convert\"以在兩者之間切換"
   ]
  },
  {
   "cell_type": "code",
   "execution_count": null,
   "metadata": {
    "ExecuteTime": {
     "end_time": "2018-05-29T16:18:41.563000Z",
     "start_time": "2018-05-29T16:18:41.493000Z"
    }
   },
   "outputs": [],
   "source": [
    "subparsers = parser.add_subparsers(help='operation to be performed')\n",
    "\n",
    "list_table_parser = subparsers.add_parser('list')\n",
    "list_table_parser.set_defaults(which='list')\n",
    "\n",
    "conversion_parser = subparsers.add_parser('convert')\n",
    "conversion_parser.set_defaults(which='convert')"
   ]
  },
  {
   "cell_type": "markdown",
   "metadata": {},
   "source": [
    "#### 變數props儲存用戶輸入的功能關鍵字，利用它來進行功能切換"
   ]
  },
  {
   "cell_type": "code",
   "execution_count": null,
   "metadata": {},
   "outputs": [],
   "source": [
    "props = parser.parse_args()\n",
    "\n",
    "if props.which == 'list':\n",
    "    _run_unit_list(props)\n",
    "elif props.which == 'convert':\n",
    "    _run_conversion(props)"
   ]
  },
  {
   "cell_type": "markdown",
   "metadata": {},
   "source": [
    "##### 查看幫助"
   ]
  },
  {
   "cell_type": "code",
   "execution_count": null,
   "metadata": {
    "ExecuteTime": {
     "end_time": "2018-05-30T01:30:56.110000Z",
     "start_time": "2018-05-30T01:30:55.909000Z"
    }
   },
   "outputs": [],
   "source": [
    "!unitconvert -h"
   ]
  },
  {
   "cell_type": "code",
   "execution_count": null,
   "metadata": {
    "ExecuteTime": {
     "end_time": "2018-05-30T01:04:37.052000Z",
     "start_time": "2018-05-30T01:04:36.814000Z"
    }
   },
   "outputs": [],
   "source": [
    "!unitconvert energy -h"
   ]
  },
  {
   "cell_type": "code",
   "execution_count": null,
   "metadata": {
    "ExecuteTime": {
     "end_time": "2018-05-29T16:46:48.473000Z",
     "start_time": "2018-05-29T16:46:48.255000Z"
    }
   },
   "outputs": [],
   "source": [
    "!unitconvert TABLE -h"
   ]
  },
  {
   "cell_type": "code",
   "execution_count": null,
   "metadata": {
    "ExecuteTime": {
     "end_time": "2018-05-30T01:04:58.502000Z",
     "start_time": "2018-05-30T01:04:58.253000Z"
    }
   },
   "outputs": [],
   "source": [
    "!unitconvert something -h"
   ]
  },
  {
   "cell_type": "markdown",
   "metadata": {},
   "source": [
    "### 2.3 list功能\n",
    "#### 對於list功能，新增一個argument -m，讓程式可以輸出不同單位之間的轉換關係"
   ]
  },
  {
   "cell_type": "code",
   "execution_count": null,
   "metadata": {
    "ExecuteTime": {
     "end_time": "2018-05-29T16:22:00.993000Z",
     "start_time": "2018-05-29T16:22:00.960000Z"
    },
    "code_folding": [
     0
    ]
   },
   "outputs": [],
   "source": [
    "list_table_parser.add_argument(\n",
    "        '-m', '--method',\n",
    "        action='store_true',\n",
    "        help='Also output the conversion method from the base unit'\n",
    "    )"
   ]
  },
  {
   "cell_type": "markdown",
   "metadata": {},
   "source": [
    "##### 查看幫助"
   ]
  },
  {
   "cell_type": "code",
   "execution_count": null,
   "metadata": {
    "ExecuteTime": {
     "end_time": "2018-05-29T16:43:58.068000Z",
     "start_time": "2018-05-29T16:43:57.832000Z"
    }
   },
   "outputs": [],
   "source": [
    "!unitconvert energy list -h"
   ]
  },
  {
   "cell_type": "markdown",
   "metadata": {},
   "source": [
    "##### 查看energy table中所有的單位"
   ]
  },
  {
   "cell_type": "code",
   "execution_count": null,
   "metadata": {
    "ExecuteTime": {
     "end_time": "2018-05-30T01:16:46.079000Z",
     "start_time": "2018-05-30T01:16:45.879000Z"
    }
   },
   "outputs": [],
   "source": [
    "!unitconvert energy list"
   ]
  },
  {
   "cell_type": "markdown",
   "metadata": {},
   "source": [
    "##### 查看energy table中單位之間的轉換關係"
   ]
  },
  {
   "cell_type": "code",
   "execution_count": null,
   "metadata": {
    "ExecuteTime": {
     "end_time": "2018-05-30T01:17:24.587000Z",
     "start_time": "2018-05-30T01:17:24.371000Z"
    }
   },
   "outputs": [],
   "source": [
    "!unitconvert energy list -m"
   ]
  },
  {
   "cell_type": "markdown",
   "metadata": {},
   "source": [
    "#### list功能本質上是依靠_run_unit_list方法來實現的\n",
    "    *呼叫Converter.py中的get_table方法\n",
    "    *當沒有argument -m傳入時，props.method為False，此時僅輸出各單位名稱\n",
    "    *當有argument -m傳入時，props.method為True，此時輸出各個單位間的轉換關係"
   ]
  },
  {
   "cell_type": "code",
   "execution_count": null,
   "metadata": {
    "ExecuteTime": {
     "end_time": "2018-05-29T16:26:15.259000Z",
     "start_time": "2018-05-29T16:26:15.242000Z"
    },
    "code_folding": [
     0
    ]
   },
   "outputs": [],
   "source": [
    "def _run_unit_list(props):\n",
    "    \"\"\"\n",
    "    Runs the command line interface for unit listing mode.\n",
    "\n",
    "    @param props Properties parsed by argparse\n",
    "    \"\"\"\n",
    "\n",
    "    table = get_table(props.table)\n",
    "    print('Unit table %s can convert between the units:')\n",
    "    for unit in table.get_units():\n",
    "        if props.method:\n",
    "            if unit == table.base_unit:\n",
    "                formula = 'base unit'\n",
    "            else:\n",
    "                conversion = inspect.getsource(table.from_base_unit[unit])\n",
    "                formula = conversion[conversion.index(':') + 1:conversion.index('\\n')].strip()\n",
    "            print('%s (%s)' % (unit, formula))\n",
    "        else:\n",
    "            print(unit)"
   ]
  },
  {
   "cell_type": "markdown",
   "metadata": {},
   "source": [
    "##### 仔細看看_run_unit_list方法的實現細節"
   ]
  },
  {
   "cell_type": "code",
   "execution_count": null,
   "metadata": {
    "ExecuteTime": {
     "end_time": "2018-05-30T01:35:36.365000Z",
     "start_time": "2018-05-30T01:35:36.359000Z"
    }
   },
   "outputs": [],
   "source": [
    "table = get_table('energy')\n",
    "unit = 'ev'\n",
    "table.from_base_unit[unit]"
   ]
  },
  {
   "cell_type": "code",
   "execution_count": null,
   "metadata": {
    "ExecuteTime": {
     "end_time": "2018-05-30T01:35:37.429000Z",
     "start_time": "2018-05-30T01:35:37.422000Z"
    }
   },
   "outputs": [],
   "source": [
    "conversion = inspect.getsource(table.from_base_unit[unit])\n",
    "conversion"
   ]
  },
  {
   "cell_type": "code",
   "execution_count": null,
   "metadata": {},
   "outputs": [],
   "source": [
    "conversion[conversion.index(':') + 1:conversion.index('\\n')]"
   ]
  },
  {
   "cell_type": "code",
   "execution_count": null,
   "metadata": {},
   "outputs": [],
   "source": [
    "conversion[conversion.index(':') + 1:conversion.index('\\n')].strip()"
   ]
  },
  {
   "cell_type": "markdown",
   "metadata": {},
   "source": [
    "### 2.4 convert功能\n",
    "#### 對於convert功能，新增arguments，用來儲存單位轉換中的相關數值"
   ]
  },
  {
   "cell_type": "code",
   "execution_count": null,
   "metadata": {
    "code_folding": [
     0,
     8,
     16
    ]
   },
   "outputs": [],
   "source": [
    "conversion_parser.add_argument(\n",
    "    'value',\n",
    "    metavar='VALUE',\n",
    "    type=float,\n",
    "    action='store',\n",
    "    help='The value to convert'\n",
    ")\n",
    "\n",
    "conversion_parser.add_argument(\n",
    "    'from_unit',\n",
    "    metavar='FROM',\n",
    "    action='store',\n",
    "    type=str,\n",
    "    help='Unit to convert from'\n",
    ")\n",
    "\n",
    "conversion_parser.add_argument(\n",
    "    'to_units',\n",
    "    metavar='TO',\n",
    "    action='store',\n",
    "    nargs='+',\n",
    "    type=str,\n",
    "    help='Unit(s) to convert to'\n",
    ")"
   ]
  },
  {
   "cell_type": "markdown",
   "metadata": {},
   "source": [
    "##### 查看幫助"
   ]
  },
  {
   "cell_type": "code",
   "execution_count": null,
   "metadata": {
    "ExecuteTime": {
     "end_time": "2018-05-29T16:43:37.548000Z",
     "start_time": "2018-05-29T16:43:37.314000Z"
    }
   },
   "outputs": [],
   "source": [
    "!unitconvert energy convert -h"
   ]
  },
  {
   "cell_type": "markdown",
   "metadata": {},
   "source": [
    "##### 類似convert_units('energy', 200, 'wh', ['j', 'hph'])的用法，使用CLI進行單位轉換\n",
    "    注意順序"
   ]
  },
  {
   "cell_type": "code",
   "execution_count": null,
   "metadata": {},
   "outputs": [],
   "source": [
    "! unitconvert energy convert 2500 kcal cal j ev"
   ]
  },
  {
   "cell_type": "markdown",
   "metadata": {},
   "source": [
    "#### convert功能本質上是依靠_run_conversion方法來實現的\n",
    "    *呼叫Converter.py中的convert_units方法"
   ]
  },
  {
   "cell_type": "code",
   "execution_count": null,
   "metadata": {},
   "outputs": [],
   "source": [
    "def _run_conversion(props):\n",
    "    \"\"\"\n",
    "    Runs the command line interface for unit conversion mode.\n",
    "\n",
    "    @param props Properties parsed by argparse\n",
    "    \"\"\"\n",
    "\n",
    "    results = convert_units(table_name=props.table,\n",
    "                            value=props.value,\n",
    "                            value_unit=props.from_unit,\n",
    "                            targets=props.to_units)\n",
    "\n",
    "    for result in results:\n",
    "        print('%f %s = %f %s' % (props.value, props.from_unit,\n",
    "                                 result['converted_value'],\n",
    "                                 result['dest_unit']))"
   ]
  },
  {
   "cell_type": "code",
   "execution_count": null,
   "metadata": {},
   "outputs": [],
   "source": []
  }
 ],
 "metadata": {
  "gist": {
   "data": {
    "description": "Ch09/Untitled.ipynb",
    "public": false
   },
   "id": ""
  },
  "kernelspec": {
   "display_name": "Python 2",
   "language": "python",
   "name": "python2"
  },
  "language_info": {
   "codemirror_mode": {
    "name": "ipython",
    "version": 2
   },
   "file_extension": ".py",
   "mimetype": "text/x-python",
   "name": "python",
   "nbconvert_exporter": "python",
   "pygments_lexer": "ipython2",
   "version": "2.7.14"
  }
 },
 "nbformat": 4,
 "nbformat_minor": 2
}
