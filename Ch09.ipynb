{
 "cells": [
  {
   "cell_type": "markdown",
   "metadata": {},
   "source": [
    "# Chapter 09: Creating Command-line Interfaces"
   ]
  },
  {
   "cell_type": "markdown",
   "metadata": {},
   "source": [
    "## 1. 測試基本功能"
   ]
  },
  {
   "cell_type": "markdown",
   "metadata": {},
   "source": [
    "##### 將200 wh 的能量分別轉換為 j, hph的形式"
   ]
  },
  {
   "cell_type": "code",
   "execution_count": null,
   "metadata": {
    "ExecuteTime": {
     "end_time": "2018-05-26T14:32:03.982000Z",
     "start_time": "2018-05-26T14:32:03.967000Z"
    }
   },
   "outputs": [],
   "source": [
    "from unitconverter.Converter import get_table, convert_units\n",
    "get_table('time').get_units()\n",
    "convert_units('energy', 200, 'wh', ['j', 'hph'])"
   ]
  },
  {
   "cell_type": "markdown",
   "metadata": {},
   "source": [
    "## 2. 建立Command-line Interface "
   ]
  },
  {
   "cell_type": "markdown",
   "metadata": {},
   "source": [
    "##### 運行前先確定當前工作目錄下是否有unitconverter資料夾和setup.py檔案"
   ]
  },
  {
   "cell_type": "code",
   "execution_count": null,
   "metadata": {
    "ExecuteTime": {
     "end_time": "2018-05-26T14:46:31.020000Z",
     "start_time": "2018-05-26T14:46:31.007000Z"
    }
   },
   "outputs": [],
   "source": [
    "!ls "
   ]
  },
  {
   "cell_type": "markdown",
   "metadata": {},
   "source": [
    "##### File name: CLI.py"
   ]
  },
  {
   "cell_type": "code",
   "execution_count": null,
   "metadata": {
    "ExecuteTime": {
     "end_time": "2018-05-26T14:32:19.902000Z",
     "start_time": "2018-05-26T14:32:19.898000Z"
    }
   },
   "outputs": [],
   "source": [
    "import argparse\n",
    "import inspect\n",
    "from unitconverter.Converter import get_table, convert_units"
   ]
  },
  {
   "cell_type": "code",
   "execution_count": null,
   "metadata": {
    "ExecuteTime": {
     "end_time": "2018-05-26T14:32:20.690000Z",
     "start_time": "2018-05-26T14:32:20.673000Z"
    },
    "code_folding": [
     0
    ]
   },
   "outputs": [],
   "source": [
    "def run_cli():\n",
    "    parser = argparse.ArgumentParser(description='Tool for converting units')\n",
    "\n",
    "    parser.add_argument(\n",
    "        'table',\n",
    "        metavar='TABLE',\n",
    "        action='store',\n",
    "        type=str,\n",
    "        help='Unit table to use in conversion'\n",
    "    )\n",
    "\n",
    "    subparsers = parser.add_subparsers(help='operation to be performed')\n",
    "\n",
    "    list_table_parser = subparsers.add_parser('list')\n",
    "    list_table_parser.set_defaults(which='list')\n",
    "\n",
    "    list_table_parser.add_argument(\n",
    "        '-m', '--method',\n",
    "        action='store_true',\n",
    "        help='Also output the conversion method from the base unit'\n",
    "    )\n",
    "\n",
    "    conversion_parser = subparsers.add_parser('convert')\n",
    "    conversion_parser.set_defaults(which='convert')\n",
    "\n",
    "    conversion_parser.add_argument(\n",
    "        'value',\n",
    "        metavar='VALUE',\n",
    "        type=float,\n",
    "        action='store',\n",
    "        help='The value to convert'\n",
    "    )\n",
    "\n",
    "    conversion_parser.add_argument(\n",
    "        'from_unit',\n",
    "        metavar='FROM',\n",
    "        action='store',\n",
    "        type=str,\n",
    "        help='Unit to convert from'\n",
    "    )\n",
    "\n",
    "    conversion_parser.add_argument(\n",
    "        'to_units',\n",
    "        metavar='TO',\n",
    "        action='store',\n",
    "        nargs='+',\n",
    "        type=str,\n",
    "        help='Unit(s) to convert to'\n",
    "    )\n",
    "\n",
    "    props = parser.parse_args()\n",
    "\n",
    "    if props.which == 'list':\n",
    "        _run_unit_list(props)\n",
    "    elif props.which == 'convert':\n",
    "        _run_conversion(props)"
   ]
  },
  {
   "cell_type": "code",
   "execution_count": null,
   "metadata": {
    "ExecuteTime": {
     "end_time": "2018-05-26T14:32:20.856000Z",
     "start_time": "2018-05-26T14:32:20.849000Z"
    },
    "code_folding": [
     0
    ]
   },
   "outputs": [],
   "source": [
    "def _run_unit_list(props):\n",
    "    \"\"\"\n",
    "    Runs the command line interface for unit listing mode.\n",
    "\n",
    "    @param props Properties parsed by argparse\n",
    "    \"\"\"\n",
    "\n",
    "    table = get_table(props.table)\n",
    "    print 'Unit table %s can convert between the units:'\n",
    "    for unit in table.get_units():\n",
    "        if props.method:\n",
    "            if unit == table.base_unit:\n",
    "                formula = 'base unit'\n",
    "            else:\n",
    "                conversion = inspect.getsource(table.from_base_unit[unit])\n",
    "                formula = conversion[conversion.index(':')+1:conversion.index('\\n')].strip()\n",
    "            print '%s (%s)' % (unit, formula)\n",
    "        else:\n",
    "            print unit"
   ]
  },
  {
   "cell_type": "code",
   "execution_count": null,
   "metadata": {
    "ExecuteTime": {
     "end_time": "2018-05-26T14:32:21.095000Z",
     "start_time": "2018-05-26T14:32:21.089000Z"
    },
    "code_folding": [
     0
    ]
   },
   "outputs": [],
   "source": [
    "def _run_conversion(props):\n",
    "    \"\"\"\n",
    "    Runs the command line interface for unit conversion mode.\n",
    "\n",
    "    @param props Properties parsed by argparse\n",
    "    \"\"\"\n",
    "\n",
    "    results = convert_units(table_name=props.table,\n",
    "                            value=props.value,\n",
    "                            value_unit=props.from_unit,\n",
    "                            targets=props.to_units)\n",
    "\n",
    "    for result in results:\n",
    "        print '%f %s = %f %s' % (props.value, props.from_unit,\n",
    "                                 result['converted_value'],\n",
    "                                 result['dest_unit'])"
   ]
  },
  {
   "cell_type": "markdown",
   "metadata": {},
   "source": [
    "## 3. 安裝並運行Command-line Interface "
   ]
  },
  {
   "cell_type": "markdown",
   "metadata": {},
   "source": [
    "##### 先使用\"python setup.py install\"，安裝完以後方可以啟用命令行工具"
   ]
  },
  {
   "cell_type": "code",
   "execution_count": null,
   "metadata": {
    "ExecuteTime": {
     "end_time": "2018-05-26T15:06:06.095000Z",
     "start_time": "2018-05-26T15:06:05.547000Z"
    }
   },
   "outputs": [],
   "source": [
    "! python setup.py install"
   ]
  },
  {
   "cell_type": "markdown",
   "metadata": {},
   "source": [
    "##### 顯示可以進行轉換的單位名稱"
   ]
  },
  {
   "cell_type": "code",
   "execution_count": null,
   "metadata": {
    "ExecuteTime": {
     "end_time": "2018-05-26T14:37:29.104000Z",
     "start_time": "2018-05-26T14:37:28.911000Z"
    }
   },
   "outputs": [],
   "source": [
    "! unitconvert energy list"
   ]
  },
  {
   "cell_type": "markdown",
   "metadata": {},
   "source": [
    "##### 顯示不同單位之間的轉換關係"
   ]
  },
  {
   "cell_type": "code",
   "execution_count": null,
   "metadata": {
    "ExecuteTime": {
     "end_time": "2018-05-26T14:38:38.581000Z",
     "start_time": "2018-05-26T14:38:38.374000Z"
    }
   },
   "outputs": [],
   "source": [
    "! unitconvert energy list -m"
   ]
  },
  {
   "cell_type": "markdown",
   "metadata": {},
   "source": [
    "##### 將2500 kcal的能量分別轉換為 cal, j, ev的形式"
   ]
  },
  {
   "cell_type": "code",
   "execution_count": null,
   "metadata": {
    "ExecuteTime": {
     "end_time": "2018-05-26T14:40:01.895000Z",
     "start_time": "2018-05-26T14:40:01.688000Z"
    }
   },
   "outputs": [],
   "source": [
    "! unitconvert energy convert 2500 kcal cal j ev"
   ]
  },
  {
   "cell_type": "code",
   "execution_count": null,
   "metadata": {},
   "outputs": [],
   "source": []
  }
 ],
 "metadata": {
  "gist": {
   "data": {
    "description": "Ch09/Untitled.ipynb",
    "public": false
   },
   "id": ""
  },
  "kernelspec": {
   "display_name": "Python 2",
   "language": "python",
   "name": "python2"
  },
  "language_info": {
   "codemirror_mode": {
    "name": "ipython",
    "version": 2
   },
   "file_extension": ".py",
   "mimetype": "text/x-python",
   "name": "python",
   "nbconvert_exporter": "python",
   "pygments_lexer": "ipython2",
   "version": "2.7.14"
  }
 },
 "nbformat": 4,
 "nbformat_minor": 2
}
