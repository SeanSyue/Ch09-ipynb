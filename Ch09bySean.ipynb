{
 "cells": [
  {
   "cell_type": "markdown",
   "metadata": {},
   "source": [
    "# Chapter 09: Creating Command-line Interfaces\n",
    "\n",
    "## 薛宇辰準備\n",
    "## 鍾聖倫修改\n",
    "## 2018-05-30\n"
   ]
  },
  {
   "cell_type": "markdown",
   "metadata": {},
   "source": [
    "Ⓞ 下週作業：將 Chapter 05中，calc 的 CLI.py 用 Chapter 09 的 argparse module 改寫，並且加上手機上至少另外5項的其他計算功能"
   ]
  },
  {
   "cell_type": "markdown",
   "metadata": {},
   "source": [
    "## 1. unitconverter的功能介紹"
   ]
  },
  {
   "cell_type": "markdown",
   "metadata": {},
   "source": [
    "#### 先import unitconverter的核心模組"
   ]
  },
  {
   "cell_type": "code",
   "execution_count": 95,
   "metadata": {
    "ExecuteTime": {
     "end_time": "2018-05-28T15:12:33.187000Z",
     "start_time": "2018-05-28T15:12:33.171000Z"
    }
   },
   "outputs": [],
   "source": [
    "from unitconverter.Converter import get_table, convert_units"
   ]
  },
  {
   "cell_type": "markdown",
   "metadata": {},
   "source": [
    "#### 先來看看定義了基礎物件的UnitTable.py\n",
    "    unit_tables資料夾內的檔案定義了各種不同單位類型的unit_table物件，所有的這些物件都繼承了UnitTable這個class\n",
    "    在class UnitTable中有下列這些method：\n",
    "    * convert: 用於單位轉換\n",
    "    * get_units: 回傳所有支援的單位名稱"
   ]
  },
  {
   "cell_type": "markdown",
   "metadata": {},
   "source": [
    "## source  → destination\n",
    "\n",
    "## source  → to_base_unit → base_unit → from_base_unit → destination"
   ]
  },
  {
   "cell_type": "code",
   "execution_count": 5,
   "metadata": {
    "ExecuteTime": {
     "end_time": "2018-05-28T15:09:11.928000Z",
     "start_time": "2018-05-28T15:09:11.908000Z"
    },
    "code_folding": [
     0,
     6,
     12,
     34
    ]
   },
   "outputs": [],
   "source": [
    "class UnitTable(object):\n",
    "    \"\"\"\n",
    "    A class to manage conversion of units for the same quantity (e.g. length,\n",
    "    volume, mass)\n",
    "    \"\"\"\n",
    "\n",
    "    def __init__(self):\n",
    "        self.base_unit = None\n",
    "        self.to_base_unit = {}\n",
    "        self.from_base_unit = {}\n",
    "\n",
    "\n",
    "    def convert(self, source, dest, value):\n",
    "        \"\"\"\n",
    "        Converts a value in one unit to another.\n",
    "\n",
    "        @param source The source unit\n",
    "        @param dest The destination unit\n",
    "        @param value The value to convert\n",
    "        @return The value in the destination unit\n",
    "        \"\"\"\n",
    "\n",
    "        if not (self.can_convert(source) and self.can_convert(dest)):\n",
    "            raise ValueError('Cannot convert given units')\n",
    "\n",
    "        if source != self.base_unit:\n",
    "            value = self.to_base_unit[source](value)\n",
    "\n",
    "        if dest != self.base_unit:\n",
    "            value = self.from_base_unit[dest](value)\n",
    "\n",
    "        return value\n",
    "\n",
    "\n",
    "    def get_units(self):\n",
    "        \"\"\"\n",
    "        Returns a list of units that this table can convert.\n",
    "\n",
    "        @return List of valid units\n",
    "        \"\"\"\n",
    "\n",
    "        convertable_units = set(self.to_base_unit.keys()) & set(self.from_base_unit.keys())\n",
    "        convertable_units.add(self.base_unit)\n",
    "        return convertable_units"
   ]
  },
  {
   "cell_type": "markdown",
   "metadata": {},
   "source": [
    "#### 顯示time的unit_table中可以進行轉換的所有單位"
   ]
  },
  {
   "cell_type": "code",
   "execution_count": 6,
   "metadata": {},
   "outputs": [
    {
     "data": {
      "text/plain": [
       "{'d', 'h', 'm', 'ms', 'ns', 's', 'us', 'y'}"
      ]
     },
     "execution_count": 6,
     "metadata": {},
     "output_type": "execute_result"
    }
   ],
   "source": [
    "get_table('time').get_units()"
   ]
  },
  {
   "cell_type": "markdown",
   "metadata": {},
   "source": [
    "我們看一下這個 lamda function"
   ]
  },
  {
   "cell_type": "code",
   "execution_count": null,
   "metadata": {},
   "outputs": [],
   "source": [
    "from .. import UnitTable\n",
    "\n",
    "class time(UnitTable.UnitTable):\n",
    "\n",
    "    def __init__(self):\n",
    "        UnitTable.UnitTable.__init__(self)\n",
    "\n",
    "        # Base unit is second\n",
    "        self.base_unit = 's'\n",
    "\n",
    "        # Minute\n",
    "        self.to_base_unit['m']     = lambda x: x * 60.0\n",
    "        self.from_base_unit['m']   = lambda x: x / 60.0\n",
    "        \n",
    "        #  使用時的語法：     value = self.to_base_unit[source](value)\n",
    "        #  to_ 與 from_ 為倒數關係\n",
    "\n",
    "        # Hour\n",
    "        self.to_base_unit['h']     = lambda x: x * 3600.0\n",
    "        self.from_base_unit['h']   = lambda x: x / 3600.0\n",
    "\n",
    "        # Day\n",
    "        self.to_base_unit['d']     = lambda x: x * 86400.0\n",
    "        self.from_base_unit['d']   = lambda x: x / 86400.0\n",
    "\n",
    "        # Year\n",
    "        self.to_base_unit['y']     = lambda x: x * 3.15569e7\n",
    "        self.from_base_unit['y']   = lambda x: x / 3.15569e7\n",
    "\n",
    "        # Millisecond\n",
    "        self.to_base_unit['ms']    = lambda x: x / 1000.0\n",
    "        self.from_base_unit['ms']  = lambda x: x * 1000.0\n",
    "\n",
    "        # Microsecond\n",
    "        self.to_base_unit['us']    = lambda x: x / 1000000.0\n",
    "        self.from_base_unit['us']  = lambda x: x * 1000000.0\n",
    "\n",
    "        # Nanosecond\n",
    "        self.to_base_unit['ns']    = lambda x: x / 1000000000.0\n",
    "        self.from_base_unit['ns']  = lambda x: x * 1000000000.0\n"
   ]
  },
  {
   "cell_type": "markdown",
   "metadata": {},
   "source": [
    "## 關於 lambda function 的使用\n",
    "\n",
    "            value = self.to_base_unit[source](value)"
   ]
  },
  {
   "cell_type": "code",
   "execution_count": 12,
   "metadata": {},
   "outputs": [
    {
     "data": {
      "text/plain": [
       "'s'"
      ]
     },
     "execution_count": 12,
     "metadata": {},
     "output_type": "execute_result"
    }
   ],
   "source": [
    "get_table('time').base_unit"
   ]
  },
  {
   "cell_type": "code",
   "execution_count": 13,
   "metadata": {},
   "outputs": [
    {
     "data": {
      "text/plain": [
       "86400.0"
      ]
     },
     "execution_count": 13,
     "metadata": {},
     "output_type": "execute_result"
    }
   ],
   "source": [
    "get_table('time').to_base_unit[\"d\"](1)"
   ]
  },
  {
   "cell_type": "markdown",
   "metadata": {},
   "source": [
    "#### 再来看看unitconverter的核心程式Converter.py\n",
    "    * get_table: 回傳一個table_name所指定的unit_table物件\n",
    "    * convert_units: 把用戶指定的數值轉換為以指定單位表示的形式"
   ]
  },
  {
   "cell_type": "code",
   "execution_count": 16,
   "metadata": {
    "ExecuteTime": {
     "end_time": "2018-05-28T15:40:57.276000Z",
     "start_time": "2018-05-28T15:40:57.260000Z"
    },
    "code_folding": [
     3,
     16
    ]
   },
   "outputs": [],
   "source": [
    "import importlib\n",
    "\n",
    "\n",
    "def get_table(table_name):\n",
    "    \"\"\"\n",
    "    Returns an instance of a unit table given the name of the table.\n",
    "\n",
    "    @param table_name Name of table to retrieve\n",
    "    @return UnitTable instance\n",
    "    \"\"\"\n",
    "\n",
    "    converter_module = importlib.import_module('unitconverter.unit_tables.%s' % table_name)\n",
    "    converter_class = getattr(converter_module, table_name)()\n",
    "    return converter_class\n",
    "\n",
    "\n",
    "def convert_units(table_name, value, value_unit, targets):\n",
    "    \"\"\"\n",
    "    Converts a given value in a unit to a set of target units.\n",
    "\n",
    "    @param table_name Name of table units are contained in\n",
    "    @param value Value to convert\n",
    "    @param value_unit Unit value is currently in\n",
    "    @param targets List of units to convert to\n",
    "    @return List of conversions\n",
    "    \"\"\"\n",
    "\n",
    "    table = get_table(table_name)\n",
    "\n",
    "    results = list()\n",
    "    for target in targets:\n",
    "        result = {'dest_unit': target}\n",
    "        try:\n",
    "            result['converted_value'] = table.convert(value_unit, target, value)\n",
    "        except ValueError:\n",
    "            continue\n",
    "        results.append(result)\n",
    "\n",
    "    return results"
   ]
  },
  {
   "cell_type": "markdown",
   "metadata": {},
   "source": [
    "#### 將200 wh 的能量分別轉換為 j, hph的形式"
   ]
  },
  {
   "cell_type": "code",
   "execution_count": 17,
   "metadata": {},
   "outputs": [
    {
     "data": {
      "text/plain": [
       "{'btu', 'cal', 'ev', 'hph', 'j', 'kcal', 'wh'}"
      ]
     },
     "execution_count": 17,
     "metadata": {},
     "output_type": "execute_result"
    }
   ],
   "source": [
    "get_table('energy').get_units()"
   ]
  },
  {
   "cell_type": "code",
   "execution_count": 18,
   "metadata": {},
   "outputs": [
    {
     "data": {
      "text/plain": [
       "[{'converted_value': 719999.99999424, 'dest_unit': 'j'},\n",
       " {'converted_value': 0.2682044216834544, 'dest_unit': 'hph'}]"
      ]
     },
     "execution_count": 18,
     "metadata": {},
     "output_type": "execute_result"
    }
   ],
   "source": [
    "convert_units('energy', 200, 'wh', ['j', 'hph'])"
   ]
  },
  {
   "cell_type": "code",
   "execution_count": 19,
   "metadata": {},
   "outputs": [
    {
     "data": {
      "text/plain": [
       "[{'converted_value': 24.0, 'dest_unit': 'h'},\n",
       " {'converted_value': 1440.0, 'dest_unit': 'm'}]"
      ]
     },
     "execution_count": 19,
     "metadata": {},
     "output_type": "execute_result"
    }
   ],
   "source": [
    "convert_units('time', 1, 'd', ['h', 'm'])"
   ]
  },
  {
   "cell_type": "markdown",
   "metadata": {},
   "source": [
    "## 關於 command line interface (CLI) 有兩種寫法：\n",
    "- Chapter 05 用 os.argv[**]\n",
    "- Chapter 09 用 argparse 的方法：將輸入資料塞入物件，並可提供 -h 等 help 的選項"
   ]
  },
  {
   "cell_type": "markdown",
   "metadata": {},
   "source": [
    "## 2. 撰寫unitconverter的Command-line Interface程式\n",
    "\n",
    "#### Command-line Interface(CLI)的設定全部都包含在CLI.py中，CLI指令供分為兩層\n",
    "    * 第一層用於選擇所需要的unit_table的類型\n",
    "    * 第二層用於選擇list模式或conversion模式\n",
    "        - list模式用於顯示選定的unit_table可以轉換的所有單位的名稱\n",
    "        - conversion模式用於單位的轉換"
   ]
  },
  {
   "cell_type": "code",
   "execution_count": 20,
   "metadata": {
    "ExecuteTime": {
     "end_time": "2018-05-26T14:32:19.902000Z",
     "start_time": "2018-05-26T14:32:19.898000Z"
    },
    "code_folding": []
   },
   "outputs": [],
   "source": [
    "# import required libraries\n",
    "import argparse\n",
    "import inspect\n",
    "from unitconverter.Converter import get_table, convert_units"
   ]
  },
  {
   "cell_type": "markdown",
   "metadata": {},
   "source": [
    "### 2.1 借助python內建的setup功能，可以方便地構建CLI環境。setup功能全部位於setup.py\n",
    "    setup.py定義了以下內容：\n",
    "    * entry_points: 我們可以在CLI界面中輸入\"unitconvert\"語句來啟動這個程式\n",
    "    * packages: 需要包含進來的所有程式\n",
    "    注意：下面的程式無法直接執行"
   ]
  },
  {
   "cell_type": "code",
   "execution_count": 2,
   "metadata": {
    "ExecuteTime": {
     "end_time": "2018-05-28T15:37:26.619000Z",
     "start_time": "2018-05-28T15:37:26.588000Z"
    },
    "code_folding": [
     2
    ]
   },
   "outputs": [
    {
     "ename": "SystemExit",
     "evalue": "usage: ipykernel_launcher.py [global_opts] cmd1 [cmd1_opts] [cmd2 [cmd2_opts] ...]\n   or: ipykernel_launcher.py --help [cmd1 cmd2 ...]\n   or: ipykernel_launcher.py --help-commands\n   or: ipykernel_launcher.py cmd --help\n\nerror: option -f not recognized",
     "output_type": "error",
     "traceback": [
      "An exception has occurred, use %tb to see the full traceback.\n",
      "\u001b[1;31mSystemExit\u001b[0m\u001b[1;31m:\u001b[0m usage: ipykernel_launcher.py [global_opts] cmd1 [cmd1_opts] [cmd2 [cmd2_opts] ...]\n   or: ipykernel_launcher.py --help [cmd1 cmd2 ...]\n   or: ipykernel_launcher.py --help-commands\n   or: ipykernel_launcher.py cmd --help\n\nerror: option -f not recognized\n"
     ]
    },
    {
     "name": "stderr",
     "output_type": "stream",
     "text": [
      "C:\\Users\\User324\\Anaconda2\\lib\\site-packages\\IPython\\core\\interactiveshell.py:2890: UserWarning: To exit: use 'exit', 'quit', or Ctrl-D.\n",
      "  warn(\"To exit: use 'exit', 'quit', or Ctrl-D.\", stacklevel=1)\n"
     ]
    }
   ],
   "source": [
    "from setuptools import setup\n",
    "\n",
    "setup(\n",
    "    name='unitconverter',\n",
    "    version='0.1.0',\n",
    "    entry_points={\n",
    "        'console_scripts': ['unitconvert=unitconverter.CLI:run_cli'],\n",
    "    },  ## 這一行 entry_points 是新加的！\n",
    "    description='Command line tool for unit conversion',\n",
    "    classifiers=[\n",
    "        'Natural Language :: English',\n",
    "        'Programming Language :: Python :: 3.5',\n",
    "        'Programming Language :: Python :: 3.6',\n",
    "        'Programming Language :: Python :: 3.7',\n",
    "    ],\n",
    "    author='Dan Nixon',\n",
    "    packages=['unitconverter', 'unitconverter.unit_tables'],\n",
    "    include_package_data=True, #  to include any data files in package\n",
    "    zip_safe=False)"
   ]
  },
  {
   "cell_type": "markdown",
   "metadata": {},
   "source": [
    "#### 先使用\"python setup.py install\"，安裝完以後方可以啟用命令行工具"
   ]
  },
  {
   "cell_type": "code",
   "execution_count": 21,
   "metadata": {
    "ExecuteTime": {
     "end_time": "2018-05-30T01:25:57.636000Z",
     "start_time": "2018-05-30T01:25:56.585000Z"
    }
   },
   "outputs": [
    {
     "name": "stdout",
     "output_type": "stream",
     "text": [
      "running install\n",
      "running bdist_egg\n",
      "running egg_info\n",
      "writing unitconverter.egg-info\\PKG-INFO\n",
      "writing top-level names to unitconverter.egg-info\\top_level.txt\n",
      "writing dependency_links to unitconverter.egg-info\\dependency_links.txt\n",
      "writing entry points to unitconverter.egg-info\\entry_points.txt\n",
      "reading manifest file 'unitconverter.egg-info\\SOURCES.txt'\n",
      "writing manifest file 'unitconverter.egg-info\\SOURCES.txt'\n",
      "installing library code to build\\bdist.win32\\egg\n",
      "running install_lib\n",
      "running build_py\n",
      "creating build\\bdist.win32\\egg\n",
      "creating build\\bdist.win32\\egg\\unitconverter\n",
      "copying build\\lib\\unitconverter\\CLI.py -> build\\bdist.win32\\egg\\unitconverter\n",
      "copying build\\lib\\unitconverter\\Converter.py -> build\\bdist.win32\\egg\\unitconverter\n",
      "copying build\\lib\\unitconverter\\UnitTable.py -> build\\bdist.win32\\egg\\unitconverter\n",
      "creating build\\bdist.win32\\egg\\unitconverter\\unit_tables\n",
      "copying build\\lib\\unitconverter\\unit_tables\\angle.py -> build\\bdist.win32\\egg\\unitconverter\\unit_tables\n",
      "copying build\\lib\\unitconverter\\unit_tables\\energy.py -> build\\bdist.win32\\egg\\unitconverter\\unit_tables\n",
      "copying build\\lib\\unitconverter\\unit_tables\\length.py -> build\\bdist.win32\\egg\\unitconverter\\unit_tables\n",
      "copying build\\lib\\unitconverter\\unit_tables\\mass.py -> build\\bdist.win32\\egg\\unitconverter\\unit_tables\n",
      "copying build\\lib\\unitconverter\\unit_tables\\speed.py -> build\\bdist.win32\\egg\\unitconverter\\unit_tables\n",
      "copying build\\lib\\unitconverter\\unit_tables\\temperature.py -> build\\bdist.win32\\egg\\unitconverter\\unit_tables\n",
      "copying build\\lib\\unitconverter\\unit_tables\\time.py -> build\\bdist.win32\\egg\\unitconverter\\unit_tables\n",
      "copying build\\lib\\unitconverter\\unit_tables\\__init__.py -> build\\bdist.win32\\egg\\unitconverter\\unit_tables\n",
      "copying build\\lib\\unitconverter\\__init__.py -> build\\bdist.win32\\egg\\unitconverter\n",
      "byte-compiling build\\bdist.win32\\egg\\unitconverter\\CLI.py to CLI.pyc\n",
      "byte-compiling build\\bdist.win32\\egg\\unitconverter\\Converter.py to Converter.pyc\n",
      "byte-compiling build\\bdist.win32\\egg\\unitconverter\\UnitTable.py to UnitTable.pyc\n",
      "byte-compiling build\\bdist.win32\\egg\\unitconverter\\unit_tables\\angle.py to angle.pyc\n",
      "byte-compiling build\\bdist.win32\\egg\\unitconverter\\unit_tables\\energy.py to energy.pyc\n",
      "byte-compiling build\\bdist.win32\\egg\\unitconverter\\unit_tables\\length.py to length.pyc\n",
      "byte-compiling build\\bdist.win32\\egg\\unitconverter\\unit_tables\\mass.py to mass.pyc\n",
      "byte-compiling build\\bdist.win32\\egg\\unitconverter\\unit_tables\\speed.py to speed.pyc\n",
      "byte-compiling build\\bdist.win32\\egg\\unitconverter\\unit_tables\\temperature.py to temperature.pyc\n",
      "byte-compiling build\\bdist.win32\\egg\\unitconverter\\unit_tables\\time.py to time.pyc\n",
      "byte-compiling build\\bdist.win32\\egg\\unitconverter\\unit_tables\\__init__.py to __init__.pyc\n",
      "byte-compiling build\\bdist.win32\\egg\\unitconverter\\__init__.py to __init__.pyc\n",
      "creating build\\bdist.win32\\egg\\EGG-INFO\n",
      "copying unitconverter.egg-info\\PKG-INFO -> build\\bdist.win32\\egg\\EGG-INFO\n",
      "copying unitconverter.egg-info\\SOURCES.txt -> build\\bdist.win32\\egg\\EGG-INFO\n",
      "copying unitconverter.egg-info\\dependency_links.txt -> build\\bdist.win32\\egg\\EGG-INFO\n",
      "copying unitconverter.egg-info\\entry_points.txt -> build\\bdist.win32\\egg\\EGG-INFO\n",
      "copying unitconverter.egg-info\\not-zip-safe -> build\\bdist.win32\\egg\\EGG-INFO\n",
      "copying unitconverter.egg-info\\top_level.txt -> build\\bdist.win32\\egg\\EGG-INFO\n",
      "creating 'dist\\unitconverter-0.1.0-py2.7.egg' and adding 'build\\bdist.win32\\egg' to it\n",
      "removing 'build\\bdist.win32\\egg' (and everything under it)\n",
      "Processing unitconverter-0.1.0-py2.7.egg\n",
      "removing 'c:\\python27\\lib\\site-packages\\unitconverter-0.1.0-py2.7.egg' (and everything under it)\n",
      "creating c:\\python27\\lib\\site-packages\\unitconverter-0.1.0-py2.7.egg\n",
      "Extracting unitconverter-0.1.0-py2.7.egg to c:\\python27\\lib\\site-packages\n",
      "unitconverter 0.1.0 is already the active version in easy-install.pth\n",
      "Installing unitconvert-script.py script to C:\\Python27\\Scripts\n",
      "Installing unitconvert.exe script to C:\\Python27\\Scripts\n",
      "Installing unitconvert.exe.manifest script to C:\\Python27\\Scripts\n",
      "\n",
      "Installed c:\\python27\\lib\\site-packages\\unitconverter-0.1.0-py2.7.egg\n",
      "Processing dependencies for unitconverter==0.1.0\n",
      "Finished processing dependencies for unitconverter==0.1.0\n"
     ]
    }
   ],
   "source": [
    "! python setup.py install"
   ]
  },
  {
   "cell_type": "code",
   "execution_count": null,
   "metadata": {},
   "outputs": [],
   "source": [
    "##\n",
    "import argparse\n",
    "import inspect\n",
    "from Converter import get_table, convert_units\n",
    "\n",
    "\n",
    "def run_cli(): # 這是在 setup.py 裏面加進 entry_ponts 的執行程式主體\n",
    "    parser = argparse.ArgumentParser(description='Tool for converting units')\n",
    "\n",
    "    parser.add_argument( # 第一個參數\n",
    "        'table',         # 存入物件的 attribute\n",
    "        metavar='TABLE',\n",
    "        action='store',\n",
    "        type=str,        # 資料型態\n",
    "        help='Unit table to use in conversion'\n",
    "    )\n",
    "\n",
    "    ## 接下來的參數可能是 {list, convert} 它們通稱 subparsers\n",
    "    \n",
    "    subparsers = parser.add_subparsers(help='operation to be performed')\n",
    "\n",
    "    list_table_parser = subparsers.add_parser('list')\n",
    "    list_table_parser.set_defaults(which='list')\n",
    "\n",
    "    list_table_parser.add_argument(\n",
    "        '-m', '--method',     # 多一個 help 的選項：如果有的話，設定為 TRUE，之後會用到\n",
    "        action='store_true',\n",
    "        help='Also output the conversion method from the base unit'\n",
    "    )\n",
    "\n",
    "    conversion_parser = subparsers.add_parser('convert')\n",
    "    conversion_parser.set_defaults(which='convert')\n",
    "\n",
    "    ## 之後，如果是要 conver 的話，後面還要有 VALUE FROM TO (+TO)\n",
    "    ## 這些為 convert 修件下的 positional argument\n",
    "    conversion_parser.add_argument(\n",
    "        'value',\n",
    "        metavar='VALUE',\n",
    "        type=float,\n",
    "        action='store',\n",
    "        help='The value to convert'\n",
    "    )\n",
    "\n",
    "    conversion_parser.add_argument(\n",
    "        'from_unit',\n",
    "        metavar='FROM',\n",
    "        action='store',\n",
    "        type=str,\n",
    "        help='Unit to convert from'\n",
    "    )\n",
    "\n",
    "    conversion_parser.add_argument(\n",
    "        'to_units',\n",
    "        metavar='TO',\n",
    "        action='store',\n",
    "        nargs='+',\n",
    "        type=str,\n",
    "        help='Unit(s) to convert to'\n",
    "    )\n",
    "\n",
    "    ## 所有輸入的參數入列到 propos 裏\n",
    "    props = parser.parse_args()\n",
    "\n",
    "    if props.which == 'list':\n",
    "        _run_unit_list(props)\n",
    "    elif props.which == 'convert':\n",
    "        _run_conversion(props)\n",
    "\n",
    "\n",
    "def _run_unit_list(props):\n",
    "    \"\"\"\n",
    "    Runs the command line interface for unit listing mode.\n",
    "\n",
    "    @param props Properties parsed by argparse\n",
    "    \"\"\"\n",
    "\n",
    "    table = get_table(props.table)\n",
    "    print 'Unit table %s can convert between the units:'\n",
    "    for unit in table.get_units():\n",
    "        if props.method:\n",
    "            if unit == table.base_unit:\n",
    "                formula = 'base unit'\n",
    "            else:\n",
    "                '''\n",
    "                還記得 lambda function 嗎？\n",
    "                        self.to_base_unit['ev']        = lambda x: x / 6241506480000000000.0\n",
    "                        self.from_base_unit['ev']      = lambda x: x * 6241506480000000000.0\n",
    "                '''                           \n",
    "                conversion = inspect.getsource(table.from_base_unit[unit])\n",
    "                formula = conversion[conversion.index(':')+1:conversion.index('\\n')].strip()\n",
    "            print '%s (%s)' % (unit, formula)\n",
    "        else:\n",
    "            print unit\n",
    "\n",
    "\n",
    "def _run_conversion(props):\n",
    "    \"\"\"\n",
    "    Runs the command line interface for unit conversion mode.\n",
    "\n",
    "    @param props Properties parsed by argparse\n",
    "    \"\"\"\n",
    "\n",
    "    results = convert_units(table_name=props.table,\n",
    "                            value=props.value,\n",
    "                            value_unit=props.from_unit,\n",
    "                            targets=props.to_units)\n",
    "\n",
    "    for result in results:\n",
    "        print '%f %s = %f %s' % (props.value, props.from_unit,\n",
    "                                 result['converted_value'],\n",
    "                                 result['dest_unit'])\n"
   ]
  },
  {
   "cell_type": "code",
   "execution_count": 45,
   "metadata": {},
   "outputs": [
    {
     "data": {
      "text/plain": [
       "\"        self.from_base_unit['d']   = lambda x: x / 86400.0\\n\""
      ]
     },
     "execution_count": 45,
     "metadata": {},
     "output_type": "execute_result"
    }
   ],
   "source": [
    "conversion = inspect.getsource(get_table(\"time\").from_base_unit['d'])\n",
    "conversion"
   ]
  },
  {
   "cell_type": "code",
   "execution_count": 46,
   "metadata": {},
   "outputs": [
    {
     "data": {
      "text/plain": [
       "'x / 86400.0'"
      ]
     },
     "execution_count": 46,
     "metadata": {},
     "output_type": "execute_result"
    }
   ],
   "source": [
    "formula = conversion[conversion.index(':')+1:conversion.index('\\n')].strip()\n",
    "formula"
   ]
  },
  {
   "cell_type": "code",
   "execution_count": 49,
   "metadata": {},
   "outputs": [
    {
     "name": "stdout",
     "output_type": "stream",
     "text": [
      "usage: unitconvert-script.py [-h] TABLE {list,convert} ...\n",
      "\n",
      "Tool for converting units\n",
      "\n",
      "positional arguments:\n",
      "  TABLE           Unit table to use in conversion\n",
      "  {list,convert}  operation to be performed\n",
      "\n",
      "optional arguments:\n",
      "  -h, --help      show this help message and exit\n"
     ]
    }
   ],
   "source": [
    "!unitconvert -h"
   ]
  },
  {
   "cell_type": "markdown",
   "metadata": {},
   "source": [
    "## 我們先看幾個例子"
   ]
  },
  {
   "cell_type": "code",
   "execution_count": 50,
   "metadata": {},
   "outputs": [
    {
     "name": "stdout",
     "output_type": "stream",
     "text": [
      "Unit table %s can convert between the units:\n",
      "btu\n",
      "j\n",
      "wh\n",
      "hph\n",
      "cal\n",
      "ev\n",
      "kcal\n"
     ]
    }
   ],
   "source": [
    "!unitconvert energy list"
   ]
  },
  {
   "cell_type": "code",
   "execution_count": 51,
   "metadata": {},
   "outputs": [
    {
     "name": "stdout",
     "output_type": "stream",
     "text": [
      "Unit table %s can convert between the units:\n",
      "btu (x * 0.00094781707775)\n",
      "j (base unit)\n",
      "wh (x * 0.00027777777778)\n",
      "hph (x * 3.7250614123e-7)\n",
      "cal (x * 0.23900573614)\n",
      "ev (x * 6241506480000000000.0)\n",
      "kcal (x * 0.00023884589663)\n"
     ]
    }
   ],
   "source": [
    "!unitconvert energy list -m"
   ]
  },
  {
   "cell_type": "code",
   "execution_count": 52,
   "metadata": {},
   "outputs": [
    {
     "name": "stdout",
     "output_type": "stream",
     "text": [
      "2500.000000 kcal = 2501673.040151 cal\n",
      "2500.000000 kcal = 10466999.999890 j\n",
      "2500.000000 kcal = 65329848325475080695971840.000000 ev\n"
     ]
    }
   ],
   "source": [
    "! unitconvert energy convert 2500 kcal cal j ev"
   ]
  },
  {
   "cell_type": "markdown",
   "metadata": {},
   "source": [
    "## 2.2 主幹parser \n",
    "\n",
    "### 之前在 Chapter 05 中，有寫過 CLI.py 是用 argv[-] 來處理輸入的參數，\n",
    "### 還記得嗎？  for arg in sys.argv[1:]:\n",
    "\n",
    "### 現在，用另外一種方式，先宣告一個parser用於儲存table的類別，之後所有的輸入都會進這個物件裏，而且，我們也可以準備一些類似 --help 等的資訊"
   ]
  },
  {
   "cell_type": "code",
   "execution_count": 74,
   "metadata": {
    "code_folding": []
   },
   "outputs": [
    {
     "data": {
      "text/plain": [
       "_StoreAction(option_strings=[], dest='table', nargs=None, const=None, default=None, type=<type 'str'>, choices=None, help='Unit table to use in conversion', metavar='TABLE')"
      ]
     },
     "execution_count": 74,
     "metadata": {},
     "output_type": "execute_result"
    }
   ],
   "source": [
    "from unitconverter.Converter import get_table, convert_units\n",
    "import inspect ## 之後我們要將 lambda function 的指令讀出來用\n",
    "\n",
    "parser = argparse.ArgumentParser(description='Tool for converting units')\n",
    "\n",
    "parser.add_argument(\n",
    "    'table',\n",
    "    metavar='TABLE',\n",
    "    action='store',\n",
    "    type=str,\n",
    "    help='Unit table to use in conversion'\n",
    ")"
   ]
  },
  {
   "cell_type": "markdown",
   "metadata": {},
   "source": [
    "#### 另外定義list和convert兩種功能，依靠關鍵字\"list\"和\"convert\"以在兩者之間切換"
   ]
  },
  {
   "cell_type": "code",
   "execution_count": 75,
   "metadata": {
    "ExecuteTime": {
     "end_time": "2018-05-29T16:18:41.563000Z",
     "start_time": "2018-05-29T16:18:41.493000Z"
    }
   },
   "outputs": [],
   "source": [
    "subparsers = parser.add_subparsers(help='operation to be performed')\n",
    "\n",
    "list_table_parser = subparsers.add_parser('list')\n",
    "list_table_parser.set_defaults(which='list')\n",
    "\n",
    "conversion_parser = subparsers.add_parser('convert')\n",
    "conversion_parser.set_defaults(which='convert')"
   ]
  },
  {
   "cell_type": "markdown",
   "metadata": {},
   "source": [
    "#### 變數props儲存用戶輸入的功能關鍵字，利用它來進行功能切換"
   ]
  },
  {
   "cell_type": "code",
   "execution_count": 76,
   "metadata": {},
   "outputs": [
    {
     "name": "stdout",
     "output_type": "stream",
     "text": [
      "usage: unitconvert-script.py [-h] TABLE {list,convert} ...\n",
      "\n",
      "Tool for converting units\n",
      "\n",
      "positional arguments:\n",
      "  TABLE           Unit table to use in conversion\n",
      "  {list,convert}  operation to be performed\n",
      "\n",
      "optional arguments:\n",
      "  -h, --help      show this help message and exit\n"
     ]
    }
   ],
   "source": [
    "!unitconvert -h"
   ]
  },
  {
   "cell_type": "code",
   "execution_count": 77,
   "metadata": {},
   "outputs": [
    {
     "name": "stderr",
     "output_type": "stream",
     "text": [
      "usage: ipykernel_launcher.py [-h] TABLE {list,convert} ...\n",
      "ipykernel_launcher.py: error: too few arguments\n"
     ]
    },
    {
     "ename": "SystemExit",
     "evalue": "2",
     "output_type": "error",
     "traceback": [
      "An exception has occurred, use %tb to see the full traceback.\n",
      "\u001b[1;31mSystemExit\u001b[0m\u001b[1;31m:\u001b[0m 2\n"
     ]
    }
   ],
   "source": [
    "props = parser.parse_args()\n",
    "\n",
    "if props.which == 'list':\n",
    "    _run_unit_list(props)\n",
    "elif props.which == 'convert':\n",
    "    _run_conversion(props)"
   ]
  },
  {
   "cell_type": "markdown",
   "metadata": {},
   "source": [
    "##### 查看幫助"
   ]
  },
  {
   "cell_type": "code",
   "execution_count": 78,
   "metadata": {
    "ExecuteTime": {
     "end_time": "2018-05-30T01:30:56.110000Z",
     "start_time": "2018-05-30T01:30:55.909000Z"
    }
   },
   "outputs": [
    {
     "name": "stdout",
     "output_type": "stream",
     "text": [
      "usage: unitconvert-script.py [-h] TABLE {list,convert} ...\n",
      "\n",
      "Tool for converting units\n",
      "\n",
      "positional arguments:\n",
      "  TABLE           Unit table to use in conversion\n",
      "  {list,convert}  operation to be performed\n",
      "\n",
      "optional arguments:\n",
      "  -h, --help      show this help message and exit\n"
     ]
    }
   ],
   "source": [
    "!unitconvert -h"
   ]
  },
  {
   "cell_type": "code",
   "execution_count": 79,
   "metadata": {
    "ExecuteTime": {
     "end_time": "2018-05-30T01:04:37.052000Z",
     "start_time": "2018-05-30T01:04:36.814000Z"
    }
   },
   "outputs": [
    {
     "name": "stdout",
     "output_type": "stream",
     "text": [
      "usage: unitconvert-script.py [-h] TABLE {list,convert} ...\n",
      "\n",
      "Tool for converting units\n",
      "\n",
      "positional arguments:\n",
      "  TABLE           Unit table to use in conversion\n",
      "  {list,convert}  operation to be performed\n",
      "\n",
      "optional arguments:\n",
      "  -h, --help      show this help message and exit\n"
     ]
    }
   ],
   "source": [
    "!unitconvert energy -h"
   ]
  },
  {
   "cell_type": "code",
   "execution_count": 80,
   "metadata": {
    "ExecuteTime": {
     "end_time": "2018-05-29T16:46:48.473000Z",
     "start_time": "2018-05-29T16:46:48.255000Z"
    }
   },
   "outputs": [
    {
     "name": "stdout",
     "output_type": "stream",
     "text": [
      "usage: unitconvert-script.py [-h] TABLE {list,convert} ...\n",
      "\n",
      "Tool for converting units\n",
      "\n",
      "positional arguments:\n",
      "  TABLE           Unit table to use in conversion\n",
      "  {list,convert}  operation to be performed\n",
      "\n",
      "optional arguments:\n",
      "  -h, --help      show this help message and exit\n"
     ]
    }
   ],
   "source": [
    "!unitconvert TABLE -h"
   ]
  },
  {
   "cell_type": "code",
   "execution_count": 81,
   "metadata": {
    "ExecuteTime": {
     "end_time": "2018-05-30T01:04:58.502000Z",
     "start_time": "2018-05-30T01:04:58.253000Z"
    }
   },
   "outputs": [
    {
     "name": "stdout",
     "output_type": "stream",
     "text": [
      "usage: unitconvert-script.py [-h] TABLE {list,convert} ...\n",
      "\n",
      "Tool for converting units\n",
      "\n",
      "positional arguments:\n",
      "  TABLE           Unit table to use in conversion\n",
      "  {list,convert}  operation to be performed\n",
      "\n",
      "optional arguments:\n",
      "  -h, --help      show this help message and exit\n"
     ]
    }
   ],
   "source": [
    "!unitconvert something -h"
   ]
  },
  {
   "cell_type": "markdown",
   "metadata": {},
   "source": [
    "### 2.3 list功能\n",
    "#### 對於list功能，新增一個argument -m，讓程式可以輸出不同單位之間的轉換關係"
   ]
  },
  {
   "cell_type": "code",
   "execution_count": 82,
   "metadata": {
    "ExecuteTime": {
     "end_time": "2018-05-29T16:22:00.993000Z",
     "start_time": "2018-05-29T16:22:00.960000Z"
    },
    "code_folding": [
     0
    ]
   },
   "outputs": [
    {
     "data": {
      "text/plain": [
       "_StoreTrueAction(option_strings=['-m', '--method'], dest='method', nargs=0, const=True, default=False, type=None, choices=None, help='Also output the conversion method from the base unit', metavar=None)"
      ]
     },
     "execution_count": 82,
     "metadata": {},
     "output_type": "execute_result"
    }
   ],
   "source": [
    "list_table_parser.add_argument(\n",
    "        '-m', '--method',\n",
    "        action='store_true',\n",
    "        help='Also output the conversion method from the base unit'\n",
    "    )"
   ]
  },
  {
   "cell_type": "markdown",
   "metadata": {},
   "source": [
    "##### 查看幫助"
   ]
  },
  {
   "cell_type": "code",
   "execution_count": 83,
   "metadata": {
    "ExecuteTime": {
     "end_time": "2018-05-29T16:43:58.068000Z",
     "start_time": "2018-05-29T16:43:57.832000Z"
    }
   },
   "outputs": [
    {
     "name": "stdout",
     "output_type": "stream",
     "text": [
      "usage: unitconvert-script.py TABLE list [-h] [-m]\n",
      "\n",
      "optional arguments:\n",
      "  -h, --help    show this help message and exit\n",
      "  -m, --method  Also output the conversion method from the base unit\n"
     ]
    }
   ],
   "source": [
    "!unitconvert energy list -h"
   ]
  },
  {
   "cell_type": "markdown",
   "metadata": {},
   "source": [
    "##### 查看energy table中所有的單位"
   ]
  },
  {
   "cell_type": "code",
   "execution_count": 84,
   "metadata": {
    "ExecuteTime": {
     "end_time": "2018-05-30T01:16:46.079000Z",
     "start_time": "2018-05-30T01:16:45.879000Z"
    }
   },
   "outputs": [
    {
     "name": "stdout",
     "output_type": "stream",
     "text": [
      "Unit table %s can convert between the units:\n",
      "btu\n",
      "j\n",
      "wh\n",
      "hph\n",
      "cal\n",
      "ev\n",
      "kcal\n"
     ]
    }
   ],
   "source": [
    "!unitconvert energy list"
   ]
  },
  {
   "cell_type": "markdown",
   "metadata": {},
   "source": [
    "##### 查看energy table中單位之間的轉換關係"
   ]
  },
  {
   "cell_type": "code",
   "execution_count": 85,
   "metadata": {
    "ExecuteTime": {
     "end_time": "2018-05-30T01:17:24.587000Z",
     "start_time": "2018-05-30T01:17:24.371000Z"
    }
   },
   "outputs": [
    {
     "name": "stdout",
     "output_type": "stream",
     "text": [
      "Unit table %s can convert between the units:\n",
      "btu (x * 0.00094781707775)\n",
      "j (base unit)\n",
      "wh (x * 0.00027777777778)\n",
      "hph (x * 3.7250614123e-7)\n",
      "cal (x * 0.23900573614)\n",
      "ev (x * 6241506480000000000.0)\n",
      "kcal (x * 0.00023884589663)\n"
     ]
    }
   ],
   "source": [
    "!unitconvert energy list -m"
   ]
  },
  {
   "cell_type": "markdown",
   "metadata": {},
   "source": [
    "#### list功能本質上是依靠_run_unit_list方法來實現的\n",
    "    *呼叫Converter.py中的get_table方法\n",
    "    *當沒有argument -m傳入時，props.method為False，此時僅輸出各單位名稱\n",
    "    *當有argument -m傳入時，props.method為True，此時輸出各個單位間的轉換關係"
   ]
  },
  {
   "cell_type": "code",
   "execution_count": 86,
   "metadata": {
    "ExecuteTime": {
     "end_time": "2018-05-29T16:26:15.259000Z",
     "start_time": "2018-05-29T16:26:15.242000Z"
    },
    "code_folding": [
     0
    ]
   },
   "outputs": [],
   "source": [
    "def _run_unit_list(props):\n",
    "    \"\"\"\n",
    "    Runs the command line interface for unit listing mode.\n",
    "\n",
    "    @param props Properties parsed by argparse\n",
    "    \"\"\"\n",
    "\n",
    "    table = get_table(props.table)\n",
    "    print 'Unit table %s can convert between the units:'\n",
    "    for unit in table.get_units():\n",
    "        if props.method:\n",
    "            if unit == table.base_unit:\n",
    "                formula = 'base unit'\n",
    "            else:\n",
    "                conversion = inspect.getsource(table.from_base_unit[unit])\n",
    "                formula = conversion[conversion.index(':') + 1:conversion.index('\\n')].strip()\n",
    "            print '%s (%s)' % (unit, formula)\n",
    "        else:\n",
    "            print unit"
   ]
  },
  {
   "cell_type": "markdown",
   "metadata": {},
   "source": [
    "##### 仔細看看_run_unit_list方法的實現細節"
   ]
  },
  {
   "cell_type": "code",
   "execution_count": 87,
   "metadata": {
    "ExecuteTime": {
     "end_time": "2018-05-30T01:35:36.365000Z",
     "start_time": "2018-05-30T01:35:36.359000Z"
    }
   },
   "outputs": [
    {
     "data": {
      "text/plain": [
       "<function unitconverter.unit_tables.energy.<lambda>>"
      ]
     },
     "execution_count": 87,
     "metadata": {},
     "output_type": "execute_result"
    }
   ],
   "source": [
    "table = get_table('energy')\n",
    "unit = 'ev'\n",
    "table.from_base_unit[unit]"
   ]
  },
  {
   "cell_type": "code",
   "execution_count": 88,
   "metadata": {
    "ExecuteTime": {
     "end_time": "2018-05-30T01:35:37.429000Z",
     "start_time": "2018-05-30T01:35:37.422000Z"
    }
   },
   "outputs": [
    {
     "data": {
      "text/plain": [
       "\"        self.from_base_unit['ev']      = lambda x: x * 6241506480000000000.0\\n\""
      ]
     },
     "execution_count": 88,
     "metadata": {},
     "output_type": "execute_result"
    }
   ],
   "source": [
    "conversion = inspect.getsource(table.from_base_unit[unit])\n",
    "conversion"
   ]
  },
  {
   "cell_type": "code",
   "execution_count": 89,
   "metadata": {},
   "outputs": [
    {
     "data": {
      "text/plain": [
       "' x * 6241506480000000000.0'"
      ]
     },
     "execution_count": 89,
     "metadata": {},
     "output_type": "execute_result"
    }
   ],
   "source": [
    "conversion[conversion.index(':') + 1:conversion.index('\\n')]"
   ]
  },
  {
   "cell_type": "code",
   "execution_count": 90,
   "metadata": {},
   "outputs": [
    {
     "data": {
      "text/plain": [
       "'x * 6241506480000000000.0'"
      ]
     },
     "execution_count": 90,
     "metadata": {},
     "output_type": "execute_result"
    }
   ],
   "source": [
    "conversion[conversion.index(':') + 1:conversion.index('\\n')].strip()"
   ]
  },
  {
   "cell_type": "markdown",
   "metadata": {},
   "source": [
    "### 2.4 convert功能\n",
    "#### 對於convert功能，新增arguments，用來儲存單位轉換中的相關數值"
   ]
  },
  {
   "cell_type": "code",
   "execution_count": 91,
   "metadata": {
    "code_folding": [
     0,
     8,
     16
    ]
   },
   "outputs": [
    {
     "data": {
      "text/plain": [
       "_StoreAction(option_strings=[], dest='to_units', nargs='+', const=None, default=None, type=<type 'str'>, choices=None, help='Unit(s) to convert to', metavar='TO')"
      ]
     },
     "execution_count": 91,
     "metadata": {},
     "output_type": "execute_result"
    }
   ],
   "source": [
    "conversion_parser.add_argument(\n",
    "    'value',\n",
    "    metavar='VALUE',\n",
    "    type=float,\n",
    "    action='store',\n",
    "    help='The value to convert'\n",
    ")\n",
    "\n",
    "conversion_parser.add_argument(\n",
    "    'from_unit',\n",
    "    metavar='FROM',\n",
    "    action='store',\n",
    "    type=str,\n",
    "    help='Unit to convert from'\n",
    ")\n",
    "\n",
    "conversion_parser.add_argument(\n",
    "    'to_units',\n",
    "    metavar='TO',\n",
    "    action='store',\n",
    "    nargs='+',\n",
    "    type=str,\n",
    "    help='Unit(s) to convert to'\n",
    ")"
   ]
  },
  {
   "cell_type": "markdown",
   "metadata": {},
   "source": [
    "##### 查看幫助"
   ]
  },
  {
   "cell_type": "code",
   "execution_count": 92,
   "metadata": {
    "ExecuteTime": {
     "end_time": "2018-05-29T16:43:37.548000Z",
     "start_time": "2018-05-29T16:43:37.314000Z"
    }
   },
   "outputs": [
    {
     "name": "stdout",
     "output_type": "stream",
     "text": [
      "usage: unitconvert-script.py TABLE convert [-h] VALUE FROM TO [TO ...]\n",
      "\n",
      "positional arguments:\n",
      "  VALUE       The value to convert\n",
      "  FROM        Unit to convert from\n",
      "  TO          Unit(s) to convert to\n",
      "\n",
      "optional arguments:\n",
      "  -h, --help  show this help message and exit\n"
     ]
    }
   ],
   "source": [
    "!unitconvert energy convert -h"
   ]
  },
  {
   "cell_type": "markdown",
   "metadata": {},
   "source": [
    "##### 類似convert_units('energy', 200, 'wh', ['j', 'hph'])的用法，使用CLI進行單位轉換\n",
    "    注意順序"
   ]
  },
  {
   "cell_type": "code",
   "execution_count": 93,
   "metadata": {},
   "outputs": [
    {
     "name": "stdout",
     "output_type": "stream",
     "text": [
      "2500.000000 kcal = 2501673.040151 cal\n",
      "2500.000000 kcal = 10466999.999890 j\n",
      "2500.000000 kcal = 65329848325475080695971840.000000 ev\n"
     ]
    }
   ],
   "source": [
    "! unitconvert energy convert 2500 kcal cal j ev"
   ]
  },
  {
   "cell_type": "markdown",
   "metadata": {},
   "source": [
    "#### convert功能本質上是依靠_run_conversion方法來實現的\n",
    "    *呼叫Converter.py中的convert_units方法"
   ]
  },
  {
   "cell_type": "code",
   "execution_count": 94,
   "metadata": {},
   "outputs": [],
   "source": [
    "def _run_conversion(props):\n",
    "    \"\"\"\n",
    "    Runs the command line interface for unit conversion mode.\n",
    "\n",
    "    @param props Properties parsed by argparse\n",
    "    \"\"\"\n",
    "\n",
    "    results = convert_units(table_name=props.table,\n",
    "                            value=props.value,\n",
    "                            value_unit=props.from_unit,\n",
    "                            targets=props.to_units)\n",
    "\n",
    "    for result in results:\n",
    "        print '%f %s = %f %s' % (props.value, props.from_unit,\n",
    "                                 result['converted_value'],\n",
    "                                 result['dest_unit'])"
   ]
  }
 ],
 "metadata": {
  "gist": {
   "data": {
    "description": "Ch09/Untitled.ipynb",
    "public": false
   },
   "id": ""
  },
  "kernelspec": {
   "display_name": "Python 2",
   "language": "python",
   "name": "python2"
  },
  "language_info": {
   "codemirror_mode": {
    "name": "ipython",
    "version": 2
   },
   "file_extension": ".py",
   "mimetype": "text/x-python",
   "name": "python",
   "nbconvert_exporter": "python",
   "pygments_lexer": "ipython2",
   "version": "2.7.11"
  }
 },
 "nbformat": 4,
 "nbformat_minor": 2
}
