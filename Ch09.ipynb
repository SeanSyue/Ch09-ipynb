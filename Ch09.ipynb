{
 "cells": [
  {
   "cell_type": "markdown",
   "metadata": {},
   "source": [
    "# Chapter 09: Creating Command-line Interfaces"
   ]
  },
  {
   "cell_type": "markdown",
   "metadata": {},
   "source": [
    "## 1. unitconverter的功能介紹"
   ]
  },
  {
   "cell_type": "markdown",
   "metadata": {
    "heading_collapsed": true
   },
   "source": [
    "#### 先來看看定義了基礎物件的UnitTable.py\n",
    "    unit_tables資料夾內的檔案定義了各種不同單位類型的unit_table物件，所有的這些物件都繼承了UnitTable這個class\n",
    "    在class UnitTable中有下列這些method：\n",
    "    * convert: 用於單位轉換\n",
    "    * get_units: 回傳所有支援的單位名稱"
   ]
  },
  {
   "cell_type": "code",
   "execution_count": 6,
   "metadata": {
    "ExecuteTime": {
     "end_time": "2018-05-28T15:09:11.928000Z",
     "start_time": "2018-05-28T15:09:11.908000Z"
    },
    "code_folding": [],
    "hidden": true
   },
   "outputs": [],
   "source": [
    "class UnitTable(object):\n",
    "    \"\"\"\n",
    "    A class to manage conversion of units for the same quantity (e.g. length,\n",
    "    volume, mass)\n",
    "    \"\"\"\n",
    "\n",
    "    def __init__(self):\n",
    "        self.base_unit = None\n",
    "        self.to_base_unit = {}\n",
    "        self.from_base_unit = {}\n",
    "\n",
    "\n",
    "    def convert(self, source, dest, value):\n",
    "        \"\"\"\n",
    "        Converts a value in one unit to another.\n",
    "\n",
    "        @param source The source unit\n",
    "        @param dest The destination unit\n",
    "        @param value The value to convert\n",
    "        @return The value in the destination unit\n",
    "        \"\"\"\n",
    "\n",
    "        if not (self.can_convert(source) and self.can_convert(dest)):\n",
    "            raise ValueError('Cannot convert given units')\n",
    "\n",
    "        if source != self.base_unit:\n",
    "            value = self.to_base_unit[source](value)\n",
    "\n",
    "        if dest != self.base_unit:\n",
    "            value = self.from_base_unit[dest](value)\n",
    "\n",
    "        return value\n",
    "\n",
    "\n",
    "    def get_units(self):\n",
    "        \"\"\"\n",
    "        Returns a list of units that this table can convert.\n",
    "\n",
    "        @return List of valid units\n",
    "        \"\"\"\n",
    "\n",
    "        convertable_units = set(self.to_base_unit.keys()) & set(self.from_base_unit.keys())\n",
    "        convertable_units.add(self.base_unit)\n",
    "        return convertable_units"
   ]
  },
  {
   "cell_type": "markdown",
   "metadata": {
    "heading_collapsed": true
   },
   "source": [
    "#### 再来看看unitconverter的核心程式Converter.py\n",
    "    * get_table: 回傳一個table_name所指定的unit_table物件\n",
    "    * convert_units: 把用戶指定的數值轉換為以指定單位表示的形式"
   ]
  },
  {
   "cell_type": "code",
   "execution_count": 12,
   "metadata": {
    "ExecuteTime": {
     "end_time": "2018-05-28T15:40:57.276000Z",
     "start_time": "2018-05-28T15:40:57.260000Z"
    },
    "hidden": true
   },
   "outputs": [],
   "source": [
    "import importlib\n",
    "\n",
    "\n",
    "def get_table(table_name):\n",
    "    \"\"\"\n",
    "    Returns an instance of a unit table given the name of the table.\n",
    "\n",
    "    @param table_name Name of table to retrieve\n",
    "    @return UnitTable instance\n",
    "    \"\"\"\n",
    "\n",
    "    converter_module = importlib.import_module('unitconverter.unit_tables.%s' % table_name)\n",
    "    converter_class = getattr(converter_module, table_name)()\n",
    "    return converter_class\n",
    "\n",
    "\n",
    "def convert_units(table_name, value, value_unit, targets):\n",
    "    \"\"\"\n",
    "    Converts a given value in a unit to a set of target units.\n",
    "\n",
    "    @param table_name Name of table units are contained in\n",
    "    @param value Value to convert\n",
    "    @param value_unit Unit value is currently in\n",
    "    @param targets List of units to convert to\n",
    "    @return List of conversions\n",
    "    \"\"\"\n",
    "\n",
    "    table = get_table(table_name)\n",
    "\n",
    "    results = list()\n",
    "    for target in targets:\n",
    "        result = {'dest_unit': target}\n",
    "        try:\n",
    "            result['converted_value'] = table.convert(value_unit, target, value)\n",
    "        except ValueError:\n",
    "            continue\n",
    "        results.append(result)\n",
    "\n",
    "    return results"
   ]
  },
  {
   "cell_type": "markdown",
   "metadata": {},
   "source": [
    "## 2. 測試unitconverter："
   ]
  },
  {
   "cell_type": "markdown",
   "metadata": {},
   "source": [
    "#### 先import unitconverter的核心模組"
   ]
  },
  {
   "cell_type": "code",
   "execution_count": 7,
   "metadata": {
    "ExecuteTime": {
     "end_time": "2018-05-28T15:12:33.187000Z",
     "start_time": "2018-05-28T15:12:33.171000Z"
    }
   },
   "outputs": [],
   "source": [
    "from unitconverter.Converter import get_table, convert_units"
   ]
  },
  {
   "cell_type": "markdown",
   "metadata": {},
   "source": [
    "#### 顯示time的unit_table中可以進行轉換的所有單位"
   ]
  },
  {
   "cell_type": "code",
   "execution_count": null,
   "metadata": {},
   "outputs": [],
   "source": [
    "get_table('time').get_units()"
   ]
  },
  {
   "cell_type": "markdown",
   "metadata": {},
   "source": [
    "#### 將200 wh 的能量分別轉換為 j, hph的形式"
   ]
  },
  {
   "cell_type": "code",
   "execution_count": null,
   "metadata": {},
   "outputs": [],
   "source": [
    "convert_units('energy', 200, 'wh', ['j', 'hph'])"
   ]
  },
  {
   "cell_type": "markdown",
   "metadata": {},
   "source": [
    "## 3. 撰寫unitconverter的Command-line Interface程式\n",
    "\n",
    "#### Command-line Interface(CLI)的設定全部都包含在CLI.py中，CLI指令供分為兩層\n",
    "    * 第一層用於選擇所需要的unit_table的類型\n",
    "    * 第二層用於選擇list模式或conversion模式\n",
    "        - list模式用於顯示選定的unit_table可以轉換的所有單位的名稱\n",
    "        - conversion模式用於單位的轉換"
   ]
  },
  {
   "cell_type": "code",
   "execution_count": null,
   "metadata": {
    "ExecuteTime": {
     "end_time": "2018-05-26T14:32:19.902000Z",
     "start_time": "2018-05-26T14:32:19.898000Z"
    },
    "code_folding": []
   },
   "outputs": [],
   "source": [
    "# import required libraries\n",
    "import argparse\n",
    "import inspect\n",
    "from unitconverter.Converter import get_table, convert_units"
   ]
  },
  {
   "cell_type": "markdown",
   "metadata": {
    "heading_collapsed": true
   },
   "source": [
    "#### 定義CLI的第一層指令"
   ]
  },
  {
   "cell_type": "code",
   "execution_count": null,
   "metadata": {
    "ExecuteTime": {
     "end_time": "2018-05-26T14:32:20.690000Z",
     "start_time": "2018-05-26T14:32:20.673000Z"
    },
    "code_folding": [],
    "hidden": true
   },
   "outputs": [],
   "source": [
    "def run_cli():\n",
    "    \"\"\"\n",
    "    Runs the main command line interface for unitconverter.\n",
    "\n",
    "    @param parser Main parser\n",
    "    @param subparsers Toggle list mode or conversion mode\n",
    "    @param props Store value for triggering list mode or conversion mode\n",
    "    \"\"\"\n",
    "    # create an ArgumentParser object, to which we can add arguments that are to be parsed from the command line\n",
    "    parser = argparse.ArgumentParser(description='Tool for converting units')\n",
    "\n",
    "    # The first argument will be used to define the conversion table that will be used in the unit conversion\n",
    "    parser.add_argument(\n",
    "        'table',\n",
    "        metavar='TABLE',\n",
    "        action='store',\n",
    "        type=str,\n",
    "        help='Unit table to use in conversion'\n",
    "    )\n",
    "\n",
    "    subparsers = parser.add_subparsers(help='operation to be performed')  # create subparser object\n",
    "\n",
    "    list_table_parser = subparsers.add_parser('list')  # add subparser \"list_table_parser\" to deal with unit list command\n",
    "    list_table_parser.set_defaults(which='list')  # set the default values for subparser \"list_table_parser\"\n",
    "\n",
    "    # optional argument for the subparser for the mode to list all the possible conversions\n",
    "    list_table_parser.add_argument(\n",
    "        '-m', '--method',\n",
    "        action='store_true',\n",
    "        help='Also output the conversion method from the base unit'\n",
    "    )\n",
    "\n",
    "    conversion_parser = subparsers.add_parser('convert')  # add subparser \"list_table_parser\" to deal with unit conversion command\n",
    "    conversion_parser.set_defaults(which='convert')  # set the default values for subparser \"list_table_parser\"\n",
    "\n",
    "    # add positional requirements to the subparser for unit conversion mode\n",
    "    conversion_parser.add_argument(\n",
    "        'value',\n",
    "        metavar='VALUE',\n",
    "        type=float,\n",
    "        action='store',\n",
    "        help='The value to convert'\n",
    "    )\n",
    "\n",
    "    conversion_parser.add_argument(\n",
    "        'from_unit',\n",
    "        metavar='FROM',\n",
    "        action='store',\n",
    "        type=str,\n",
    "        help='Unit to convert from'\n",
    "    )\n",
    "\n",
    "    conversion_parser.add_argument(\n",
    "        'to_units',\n",
    "        metavar='TO',\n",
    "        action='store',\n",
    "        nargs='+',\n",
    "        type=str,\n",
    "        help='Unit(s) to convert to'\n",
    "    )\n",
    "\n",
    "    props = parser.parse_args()  # call the parse_args function to parse the options from the command line\n",
    "\n",
    "    # run either the _run_unit_list or _run_conversion function to perform the processing of the application\n",
    "    if props.which == 'list':\n",
    "        _run_unit_list(props)\n",
    "    elif props.which == 'convert':\n",
    "        _run_conversion(props)"
   ]
  },
  {
   "cell_type": "markdown",
   "metadata": {
    "heading_collapsed": true
   },
   "source": [
    "#### 定義第二層中的list功能"
   ]
  },
  {
   "cell_type": "code",
   "execution_count": null,
   "metadata": {
    "ExecuteTime": {
     "end_time": "2018-05-26T14:32:20.856000Z",
     "start_time": "2018-05-26T14:32:20.849000Z"
    },
    "code_folding": [
     0
    ],
    "hidden": true
   },
   "outputs": [],
   "source": [
    "def _run_unit_list(props):\n",
    "    \"\"\"\n",
    "    Runs the command line interface for unit listing mode.\n",
    "\n",
    "    @param props Properties parsed by argparse\n",
    "    \"\"\"\n",
    "\n",
    "    table = get_table(props.table)\n",
    "    print 'Unit table %s can convert between the units:'\n",
    "    for unit in table.get_units():\n",
    "        if props.method:  # if argument \"--method\" is passed in\n",
    "            if unit == table.base_unit:  # if unit is base unit, then don't show conversion formula\n",
    "                formula = 'base unit'\n",
    "            else:  # retrieve conversion formula \n",
    "                conversion = inspect.getsource(table.from_base_unit[unit])\n",
    "                formula = conversion[conversion.index(':')+1:conversion.index('\\n')].strip()\n",
    "            print '%s (%s)' % (unit, formula)\n",
    "        else:  # if argument \"--method\" does not passed in, just print out available units\n",
    "            print unit"
   ]
  },
  {
   "cell_type": "markdown",
   "metadata": {
    "heading_collapsed": true
   },
   "source": [
    "#### 定義第二層中conversion的功能"
   ]
  },
  {
   "cell_type": "code",
   "execution_count": null,
   "metadata": {
    "ExecuteTime": {
     "end_time": "2018-05-26T14:32:21.095000Z",
     "start_time": "2018-05-26T14:32:21.089000Z"
    },
    "code_folding": [
     0
    ],
    "hidden": true
   },
   "outputs": [],
   "source": [
    "def _run_conversion(props):\n",
    "    \"\"\"\n",
    "    Runs the command line interface for unit conversion mode.\n",
    "\n",
    "    @param props Properties parsed by argparse\n",
    "    \"\"\"\n",
    "\n",
    "    # compute conversions\n",
    "    results = convert_units(table_name=props.table,\n",
    "                            value=props.value,\n",
    "                            value_unit=props.from_unit,\n",
    "                            targets=props.to_units)\n",
    "\n",
    "    # print out conversion results\n",
    "    for result in results:\n",
    "        print '%f %s = %f %s' % (props.value, props.from_unit,\n",
    "                                 result['converted_value'],\n",
    "                                 result['dest_unit'])"
   ]
  },
  {
   "cell_type": "markdown",
   "metadata": {},
   "source": [
    "## 4. 運行Command-line Interface環境"
   ]
  },
  {
   "cell_type": "markdown",
   "metadata": {},
   "source": [
    "#### 若需要方便地使用CLI功能，我們需要借助python內建的setup功能。setup功能全部位於setup.py\n",
    "    setup.py定義了以下內容：\n",
    "    * entry_points: CLI的入口程式\n",
    "    * packages: 需要包含進來的所有程式\n",
    "    注意：下面的程式無法直接執行"
   ]
  },
  {
   "cell_type": "code",
   "execution_count": 11,
   "metadata": {
    "ExecuteTime": {
     "end_time": "2018-05-28T15:37:26.619000Z",
     "start_time": "2018-05-28T15:37:26.588000Z"
    }
   },
   "outputs": [],
   "source": [
    "from setuptools import setup\n",
    "\n",
    "setup(\n",
    "    name='unitconverter',\n",
    "    version='0.1.0',\n",
    "    entry_points={\n",
    "        'console_scripts': ['unitconvert=unitconverter.CLI:run_cli'],\n",
    "    },\n",
    "    description='Command line tool for unit conversion',\n",
    "    classifiers=[\n",
    "        'Natural Language :: English',\n",
    "        'Programming Language :: Python :: 2.7',\n",
    "    ],\n",
    "    author='Dan Nixon',\n",
    "    packages=['unitconverter', 'unitconverter.unit_tables'],\n",
    "    include_package_data=True,\n",
    "    zip_safe=False)"
   ]
  },
  {
   "cell_type": "markdown",
   "metadata": {},
   "source": [
    "#### 先使用\"python setup.py install\"，安裝完以後方可以啟用命令行工具"
   ]
  },
  {
   "cell_type": "code",
   "execution_count": null,
   "metadata": {
    "ExecuteTime": {
     "end_time": "2018-05-28T15:58:20.350000Z",
     "start_time": "2018-05-28T15:58:19.481000Z"
    }
   },
   "outputs": [],
   "source": [
    "! python setup.py install"
   ]
  },
  {
   "cell_type": "markdown",
   "metadata": {},
   "source": [
    "#### 查看幫助"
   ]
  },
  {
   "cell_type": "code",
   "execution_count": null,
   "metadata": {
    "ExecuteTime": {
     "end_time": "2018-05-28T15:59:48.343000Z",
     "start_time": "2018-05-28T15:59:48.123000Z"
    }
   },
   "outputs": [],
   "source": [
    "! unitconvert --help"
   ]
  },
  {
   "cell_type": "markdown",
   "metadata": {},
   "source": [
    "#### 查看list模式下的幫助信息"
   ]
  },
  {
   "cell_type": "code",
   "execution_count": 19,
   "metadata": {
    "ExecuteTime": {
     "end_time": "2018-05-28T16:00:56.694000Z",
     "start_time": "2018-05-28T16:00:56.452000Z"
    }
   },
   "outputs": [
    {
     "name": "stdout",
     "output_type": "stream",
     "text": [
      "usage: unitconvert TABLE list [-h] [-m]\n",
      "\n",
      "optional arguments:\n",
      "  -h, --help    show this help message and exit\n",
      "  -m, --method  Also output the conversion method from the base unit\n"
     ]
    }
   ],
   "source": [
    "! unitconvert speed list --help"
   ]
  },
  {
   "cell_type": "markdown",
   "metadata": {},
   "source": [
    "#### 顯示energy的unit_table可以進行轉換的單位名稱"
   ]
  },
  {
   "cell_type": "code",
   "execution_count": null,
   "metadata": {
    "ExecuteTime": {
     "end_time": "2018-05-28T10:49:21.985000Z",
     "start_time": "2018-05-28T10:49:20.939000Z"
    }
   },
   "outputs": [],
   "source": [
    "! unitconvert energy list"
   ]
  },
  {
   "cell_type": "markdown",
   "metadata": {},
   "source": [
    "#### 顯示energy的unit_table可以進行轉換的各個單位之間的轉換關係"
   ]
  },
  {
   "cell_type": "code",
   "execution_count": null,
   "metadata": {
    "ExecuteTime": {
     "end_time": "2018-05-28T10:49:25.342000Z",
     "start_time": "2018-05-28T10:49:25.100000Z"
    }
   },
   "outputs": [],
   "source": [
    "! unitconvert energy list -m"
   ]
  },
  {
   "cell_type": "markdown",
   "metadata": {},
   "source": [
    "#### 將2500 kcal的能量分別轉換為 cal, j, ev的形式"
   ]
  },
  {
   "cell_type": "code",
   "execution_count": null,
   "metadata": {
    "ExecuteTime": {
     "end_time": "2018-05-26T14:40:01.895000Z",
     "start_time": "2018-05-26T14:40:01.688000Z"
    }
   },
   "outputs": [],
   "source": [
    "! unitconvert energy convert 2500 kcal cal j ev"
   ]
  },
  {
   "cell_type": "code",
   "execution_count": null,
   "metadata": {},
   "outputs": [],
   "source": []
  }
 ],
 "metadata": {
  "gist": {
   "data": {
    "description": "Ch09/Untitled.ipynb",
    "public": false
   },
   "id": ""
  },
  "kernelspec": {
   "display_name": "Python 2",
   "language": "python",
   "name": "python2"
  },
  "language_info": {
   "codemirror_mode": {
    "name": "ipython",
    "version": 2
   },
   "file_extension": ".py",
   "mimetype": "text/x-python",
   "name": "python",
   "nbconvert_exporter": "python",
   "pygments_lexer": "ipython2",
   "version": "2.7.14"
  }
 },
 "nbformat": 4,
 "nbformat_minor": 2
}
